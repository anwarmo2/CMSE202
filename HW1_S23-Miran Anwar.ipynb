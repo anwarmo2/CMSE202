{
 "cells": [
  {
   "cell_type": "markdown",
   "metadata": {
    "id": "oaGzBYqYZa9f"
   },
   "source": [
    "# Homework Assignment 1 (Individual)\n",
    "## Git practice, debugging practice, and new Python packages"
   ]
  },
  {
   "cell_type": "markdown",
   "metadata": {
    "id": "CPPmlZrQZcAQ"
   },
   "source": [
    "### <p style=\"text-align: right;\"> &#9989; Miran Anwar</p>\n",
    "### <p style=\"text-align: right;\"> &#9989; anwarmo2 </p>"
   ]
  },
  {
   "cell_type": "markdown",
   "metadata": {
    "id": "iQj_paJ9ZdmJ"
   },
   "source": [
    "\n",
    "### Goals for this homework assignment\n",
    "By the end of this assignment, you should be able will:\n",
    "* Demonstrate the purpose and utility of Git and demonstrate a workflow in practice.\n",
    "* Use Git to create a repository, track changes to the files within the repository, and push those changes to a remote repository.\n",
    "* Articulate the most common debugging strategies\n",
    "* Debug some basic Python code.\n",
    "* Read documentation and example code to use a new Python package\n",
    "\n",
    "Work through the following assignment, making sure to follow all of the directions and answer all of the questions.\n",
    "\n",
    "There are **100 points** possible on this assignment. Point values for each part are included in the section headers and question prompts.\n",
    "\n",
    "**This assignment is due roughly two weeks from now at 11:59 pm on Friday, February 3rd.** It should be uploaded into the \"Homework Assignments\" submission folder for Homework #1 on D2L.  Submission instructions can be found at the end of the notebook. "
   ]
  },
  {
   "cell_type": "markdown",
   "metadata": {
    "id": "-lMRNRFDZBlh"
   },
   "source": [
    "# Part 0: Office Hours and Academic Integrity (10 points)\n",
    "\n",
    "## Academic integrity statement (2 Points)\n",
    "\n",
    "In the markdown cell below, paste your personal academic integrity statement. By including this statement, you are confirming that you are submitting this as your own work and not that of someone else.\n"
   ]
  },
  {
   "cell_type": "markdown",
   "metadata": {
    "id": "dyaVnz36ZDhX"
   },
   "source": [
    "<font size=6 color=\"#009600\">&#9998;</font> As a Spartan, I will strive to uphold values of the highest ethical standard. I will practice honesty in my work, foster honesty in my peers, and take pride in knowing that honor is worth more than grades. I will carry these values beyond my time as a student at Michigan State University, continuing the endeavor to build personal integrity in all that I do."
   ]
  },
  {
   "cell_type": "markdown",
   "metadata": {
    "id": "FpV1F8X5ZGyn"
   },
   "source": [
    "## Going to Office Hours (8 Points)\n",
    "\n",
    "### Why are we doing this?\n",
    "We want to make sure that everyone knows how to access the resources\n",
    "available to you. One of the best resources you have at your disposal is office hours.\n",
    "\n",
    "### What will you do?\n",
    "(At minimum) Go to one office hour session ​(it doesn’t matter which one you go to). Come with one question that you would like to talk about. It can be big or small. Ask your question. All of the instructors for CMSE 202 (section leads, TAs, and LAs) will be adding to a running list of folks that we see during office hours; as long as your name appears on the list, you’ll get credit for this part of Homework 1.\n",
    "\n",
    "**NOTE:** The day when the homework is due (**Friday, February 3rd**) will be the busiest time for folks to go to office hours. You are **STRONGLY** encouraged to go to office hours before Friday to get credit for this part of this assignment. (You should still feel free to go to office hours on Friday for help, though!)\n",
    "\n",
    "You can find the office hours calendar on the [course website](https://cmse.msu.edu/cmse202)."
   ]
  },
  {
   "cell_type": "markdown",
   "metadata": {
    "id": "Ycc8us9qZRbQ"
   },
   "source": [
    "**&#9989; **Question 0.1 (8 points)****\n",
    "\n",
    "Type below the question you asked."
   ]
  },
  {
   "cell_type": "markdown",
   "metadata": {
    "id": "QHtvFWdQZSkF"
   },
   "source": [
    "<font size=6 color=\"#009600\">&#9998;</font> I asked general questions abotu homework and someone before me asked the same so I got my answer."
   ]
  },
  {
   "cell_type": "markdown",
   "metadata": {
    "id": "Ouu4YtGnRm_2"
   },
   "source": [
    "# Part 1: Designing a Workflow with Git (30 points total)\n",
    "\n",
    "You have spent some time in class learning about how/why we use git in CMSE 202 and beyond, and you will be expected to use it throughout the semester.\n",
    "\n",
    "## 1.1 Propose a Software Development Workflow (10 points)\n",
    "\n",
    "You are working collaboratively with a team on a research project that includes developing code as well as writing a paper to communicate your results, and you need to ensure that all work is managed and tracked with git. Since you are learning about git in your class, your groupmates have asked you to propose a software development workflow for this project. Here, workflow is defined as the process by which the project is managed and developed.\n",
    "\n",
    "Your workflow must (at least) handle the following:\n",
    "1. What role (or roles) will each person have?\n",
    "2. How will changes be made/tracked?\n",
    "3. What are your requirements for commit messages?\n",
    "4. How do you expect people to work on their portions of the projects (using branches/merges)?\n",
    "\n",
    "In the cell below, write down the guidelines for your proposed workflow, making sure to account for all of the items mentioned above.\n"
   ]
  },
  {
   "cell_type": "markdown",
   "metadata": {
    "id": "GFkl_ExSWFv7"
   },
   "source": [
    "<font size=+3>&#9998;</font> 1. The work will be comaprtmentalized and each person on the team will have a specific job assigned to them. Two team members will be tasked with developing the code, and other two will be tasked will writing a paper to communicate the results.\n",
    "\n",
    "2. To make a change, a copy of the file will be downloaded from the main file depository and changes will be amde to it an d then reviewed by other group memebers and then the changes will be pushed to the main file after the review process. This way the changes made can be tracked easily.\n",
    "\n",
    "3. The commit messasges should include what line was changed and they should be concise and meaningful. \n",
    "\n",
    "4. People are expected to work on their portions by selecting the code they want to work on, copying it to their system and then making changes and oushing the changes to the main code depository after a review process\n"
   ]
  },
  {
   "cell_type": "markdown",
   "metadata": {
    "id": "Jvto9V5XWBHu"
   },
   "source": [
    "\n",
    "\n",
    "\n",
    "## 1.2 Testing Your Workflow (10 points)\n",
    "\n",
    "In the cell(s) below, demonstrate that your workflow works by performing (or answering) the following tests:\n",
    "\n",
    "1. A new person is joining your team, but they have never coded before and are concerned about making changes that might break your code. According to your workflow, what should their role be, and how should they make changes to the code?\n",
    "2. Using vi (or your favorite text editor), create a file called paper_draft.txt. Following your workflow, make and commit changes to that file. Copy and paste any command line interface commands you use in the cell below.\n",
    "\n",
    "\n",
    "\n",
    "\n"
   ]
  },
  {
   "cell_type": "markdown",
   "metadata": {
    "id": "oOFbq1cLZZWR"
   },
   "source": [
    "<font size=+3>&#9998;</font> They should follow the process that any other team member will follow. Select a part of the code to change, copy it to their system and edit it and push it after a review process. \n",
    "\n",
    "2. Codes in the cell below"
   ]
  },
  {
   "cell_type": "code",
   "execution_count": 1,
   "metadata": {
    "id": "Cyo2eBLHZeWW"
   },
   "outputs": [
    {
     "ename": "SyntaxError",
     "evalue": "invalid syntax (<ipython-input-1-8d0ad956b757>, line 2)",
     "output_type": "error",
     "traceback": [
      "\u001b[0;36m  File \u001b[0;32m\"<ipython-input-1-8d0ad956b757>\"\u001b[0;36m, line \u001b[0;32m2\u001b[0m\n\u001b[0;31m    cd path/to/directory\u001b[0m\n\u001b[0m       ^\u001b[0m\n\u001b[0;31mSyntaxError\u001b[0m\u001b[0;31m:\u001b[0m invalid syntax\n"
     ]
    }
   ],
   "source": [
    "# put any code here (feel free to add additional cells)\n",
    "cd path/to/directory\n",
    "git clone\n",
    "git add\n",
    "git commit -a -m \"commit message goes here\""
   ]
  },
  {
   "cell_type": "markdown",
   "metadata": {
    "id": "ZRnZNfSsXRIv"
   },
   "source": [
    "## 1.3 Reflecting (10 points)\n",
    "\n",
    "Answer the following questions in the cell below about your workflow:\n",
    "\n",
    "1. What challenges/bugs did you run into when testing your workflow? How might you design for them in the future?\n",
    "2. What worked well with your workflow?"
   ]
  },
  {
   "cell_type": "markdown",
   "metadata": {
    "id": "Lr1LmKb9aSdm"
   },
   "source": [
    "<font size=+3>&#9998;</font> 1. The bugs i ran while testing my workflow were that git gave me errors for syntax problems. It is no longer giving me that message.\n",
    "\n",
    "2. Pushing the edited code back worked well"
   ]
  },
  {
   "cell_type": "markdown",
   "metadata": {
    "id": "cImTyMz-W_jX"
   },
   "source": [
    "## &#128721; STOP **COMMIT YOUR WORK TO GIT NOW**\n",
    "\n",
    "You should commit early and often, but at least do it after you complete each homework problem. \n",
    "\n",
    "Make sure to use meaningful commit messages that indicate the changes you have made!"
   ]
  },
  {
   "cell_type": "markdown",
   "metadata": {
    "id": "CPTa3YYWYjJG"
   },
   "source": [
    "# Part 2: Debugging Code (30 points total)\n",
    "\n",
    "Bugs are a part of life in writing code. They do not mean you are not making progress at coding. However, you can employ various debugging strategies to help you work through bugs efficiently and confidently.\n",
    "\n",
    "## 2.1 Helping a CMSE 201 Student (10 points)\n",
    "\n",
    "In the cell below, explain debugging to a CMSE 201 student, and describe the process you would recommend they use to debug their code. You must include how you would solve the various types of bugs you can encounter while coding. Remember all of the resources you can use in CMSE 201/202 (particularly Google or other search engines!).\n",
    "\n"
   ]
  },
  {
   "cell_type": "markdown",
   "metadata": {
    "id": "UslFH5ffbX80"
   },
   "source": [
    "<font size=+3>&#9998;</font> To debug a code the first step is to run the code and analyze the error that you are getting. The error codes give the line number where the error occurs, note it down. Now that we have the line number for the error, dry run the code and see what it was supposed to be and what it is right now nd focus on the error lines. After the error has been found, make changes to the the line and repeat the process. If error is still not resolved then google the error code and see what causes this type of error and match with what your output is for that line.\n",
    "If no error code provided then check with expected output and then continue witht he same process."
   ]
  },
  {
   "cell_type": "markdown",
   "metadata": {
    "id": "91ouG6LrbYAZ"
   },
   "source": [
    "## 2.2 Working Through Bugs (20 points total)\n",
    "\n",
    "### 2.2.1 A Squirrelly Situation (10 points)\n",
    "\n",
    "Run the code in the cell below. There is (at least) 1 bug to find and fix! Complete the following questions:\n",
    "\n",
    "1. Apply your debugging process to solve the bug(s) (showing the corrected code).\n",
    "2. Did your process work? If so, continue to the next problem. If not, describe why and indicate any changes you would make to your process.\n",
    "\n",
    "\n"
   ]
  },
  {
   "cell_type": "code",
   "execution_count": 18,
   "metadata": {
    "colab": {
     "base_uri": "https://localhost:8080/"
    },
    "id": "QDp4prBRg9Wn",
    "outputId": "0bddf470-9d92-4f7e-e8c4-39b3a83b4e2f"
   },
   "outputs": [
    {
     "name": "stdout",
     "output_type": "stream",
     "text": [
      "19\n"
     ]
    }
   ],
   "source": [
    "# function that returns a random number of squirrels spotted between 0 and the limit\n",
    "def squirrel_spotting_simulation(limit=15):\n",
    "    import numpy as np\n",
    "    random_squirrels = np.random.randint(10)\n",
    "    return random_squirrels\n",
    "\n",
    "# initialize number of squirrels\n",
    "squirrel_count = 0\n",
    "# initialize number of time steps\n",
    "t = 0\n",
    "\n",
    "# loop until the observer reaches a maximum of 100 squirrels spotted\n",
    "while squirrel_count <= 100:\n",
    "    # use our function to generate a random number of squirrels spotted\n",
    "    increment = squirrel_spotting_simulation(15)\n",
    "    # increment the number of time steps by 1\n",
    "    t+=1\n",
    "    # add the number of random squirrels this time step to the total number\n",
    "    squirrel_count+=increment\n",
    "\n",
    "# print the total number of timesteps it took\n",
    "print(t)"
   ]
  },
  {
   "cell_type": "markdown",
   "metadata": {
    "id": "9DFy6pqkg84W"
   },
   "source": [
    "<font size=+3>&#9998;</font> Yes the process worked"
   ]
  },
  {
   "cell_type": "code",
   "execution_count": null,
   "metadata": {},
   "outputs": [],
   "source": [
    "# function that returns a random number of squirrels spotted between 0 and the limit\n",
    "def squirrel_spotting_simulation(limit=15):\n",
    "    import numpy as np\n",
    "    random_squirrels = np.random.randint(10)\n",
    "    return random_squirrels\n",
    "\n",
    "# initialize number of squirrels\n",
    "squirrel_count = 0\n",
    "# initialize number of time steps\n",
    "t = 0\n",
    "\n",
    "# loop until the observer reaches a maximum of 100 squirrels spotted\n",
    "while squirrel_count <= 100:\n",
    "    # use our function to generate a random number of squirrels spotted\n",
    "    increment = squirrel_spotting_simulation(15)\n",
    "    # increment the number of time steps by 1\n",
    "    t+=1\n",
    "    # add the number of random squirrels this time step to the total number\n",
    "    squirrel_count+=increment\n",
    "\n",
    "# print the total number of timesteps it took\n",
    "print(t)"
   ]
  },
  {
   "cell_type": "markdown",
   "metadata": {
    "id": "v3dwJ0nueFJ9"
   },
   "source": [
    "## 2.2.2 Plotting and Scheming\n",
    "\n",
    "Run the code in the cell below, then answer the following questions:\n",
    "\n",
    "\n",
    "1. Apply your debugging process to solve the bug (showing the corrected code).\n",
    "2. Did your process work? If so, continue to the next problem. If not, describe why and indicate any changes you would make to your process."
   ]
  },
  {
   "cell_type": "code",
   "execution_count": 19,
   "metadata": {
    "id": "KvwNCSVWtEhP"
   },
   "outputs": [
    {
     "data": {
      "image/png": "[encoded data removed]",
      "text/plain": [
       "<Figure size 432x288 with 1 Axes>"
      ]
     },
     "metadata": {
      "needs_background": "light"
     },
     "output_type": "display_data"
    },
    {
     "data": {
      "text/plain": [
       "<matplotlib.legend.Legend at 0x7f835e9a0730>"
      ]
     },
     "execution_count": 19,
     "metadata": {},
     "output_type": "execute_result"
    },
    {
     "data": {
      "image/png": "[encoded data removed]",
      "text/plain": [
       "<Figure size 432x288 with 1 Axes>"
      ]
     },
     "metadata": {
      "needs_background": "light"
     },
     "output_type": "display_data"
    }
   ],
   "source": [
    "# code to plot two randomly generated data sets (sin and cos) on one plot\n",
    "\n",
    "import matplotlib.pyplot as plt\n",
    "import numpy as np\n",
    "\n",
    "# generate some x data: sixty data points from 0 to 4π\n",
    "x_sin = np.linspace(0,4*np.pi,60)\n",
    "\n",
    "# generate some y data: 1.5 * sin(1.2x + 0.5)\n",
    "# we add the np.random.normal(0.25,.25,60) at the end to add some randomness to the data\n",
    "y_sin = 1.5 * np.sin(1.2 * x_sin) + np.random.normal(.25,.25,60)\n",
    "\n",
    "y_cos = 1.5 * np.cos(1.2 * x_sin) + np.random.normal(.25,.25,60)\n",
    "# plot our data\n",
    "plt.scatter(x_sin, y_sin, label = \"sin data\")\n",
    "plt.xlabel('x')\n",
    "plt.ylabel('y')\n",
    "plt.show()\n",
    "plt.scatter(x_sin, y_cos, label = \"cos data\")\n",
    "plt.legend()\n"
   ]
  },
  {
   "cell_type": "code",
   "execution_count": 21,
   "metadata": {},
   "outputs": [
    {
     "data": {
      "image/png": "[encoded data removed]",
      "text/plain": [
       "<Figure size 432x288 with 1 Axes>"
      ]
     },
     "metadata": {
      "needs_background": "light"
     },
     "output_type": "display_data"
    },
    {
     "data": {
      "text/plain": [
       "<matplotlib.legend.Legend at 0x7f835e7f2d30>"
      ]
     },
     "execution_count": 21,
     "metadata": {},
     "output_type": "execute_result"
    },
    {
     "data": {
      "image/png": "[encoded data removed]",
      "text/plain": [
       "<Figure size 432x288 with 1 Axes>"
      ]
     },
     "metadata": {
      "needs_background": "light"
     },
     "output_type": "display_data"
    }
   ],
   "source": [
    "# code to plot two randomly generated data sets (sin and cos) on one plot\n",
    "\n",
    "import matplotlib.pyplot as plt\n",
    "import numpy as np\n",
    "\n",
    "# generate some x data: sixty data points from 0 to 4π\n",
    "x_sin = np.linspace(0,4*np.pi,60)\n",
    "x_cos = np.linspace(0,4*np.pi,60)\n",
    "\n",
    "# generate some y data: 1.5 * sin(1.2x + 0.5)\n",
    "# we add the np.random.normal(0.25,.25,60) at the end to add some randomness to the data\n",
    "y_sin = 1.5 * np.sin(1.2 * x_sin) + np.random.normal(.25,.25,60)\n",
    "\n",
    "y_cos = 1.5 * np.cos(1.2 * x_cos) + np.random.normal(.25,.25,60)\n",
    "# plot our data\n",
    "plt.scatter(x_sin, y_sin, label = \"sin data\")\n",
    "plt.xlabel('x')\n",
    "plt.ylabel('y')\n",
    "plt.show()\n",
    "plt.scatter(x_sin, y_cos, label = \"cos data\")\n",
    "plt.legend()\n"
   ]
  },
  {
   "cell_type": "markdown",
   "metadata": {
    "id": "gdi1OLFurcgn"
   },
   "source": [
    "<font size=+3>&#9998;</font> Yes, the process worked and found the bug"
   ]
  },
  {
   "cell_type": "markdown",
   "metadata": {
    "id": "w0jXfIeUpgty"
   },
   "source": [
    "## &#128721; STOP **COMMIT YOUR WORK TO GIT NOW**\n",
    "\n",
    "You should commit early and often, but at least do it after you complete each homework problem."
   ]
  },
  {
   "cell_type": "markdown",
   "metadata": {
    "id": "-y69UHzUdSEp"
   },
   "source": [
    "# Part 3: New Packages (25 points total)\n",
    "\n",
    "In Part 1, you developed a workflow for the project your team is working on. One of your team members found this package that will help with some of the visualizations, however you discover that you don't currently have this package installed. \n",
    "\n",
    "A quick Google search tells you that the plotly Python library is an interactive, open-source plotting library that supports over 40 unique chart types covering a wide range of statistical, financial, geographic, scientific, and 3-dimensional use-cases. Sounds great, let's figure this out!\n",
    "\n",
    "## 3.1 Install Package using CLI\n",
    "You remember from class that you can install packages using the command line. Using your terminal, install the plotly package, then answer the following questions.\n",
    "\n",
    "### 3.1.1 (5 points): \n",
    "\n",
    "In the cell below, write down the command you used to install the package. "
   ]
  },
  {
   "cell_type": "markdown",
   "metadata": {
    "id": "fPWkcX5F0Xnw"
   },
   "source": [
    "<font size=6 color=\"#009600\">&#9998;</font> *Put your answer here.*"
   ]
  },
  {
   "cell_type": "markdown",
   "metadata": {},
   "source": [
    "# IMPORTANT NOTE\n",
    "\n",
    "Particularly if you are using JupyterHub, you may get a message similar to this one in your terminal:\n",
    "\n",
    "![package_exists.jpg](https://raw.githubusercontent.com/msu-cmse-courses/cmse202-S23-data/main//HW/HW1/package_exists.jpg)\n",
    "\n",
    "This means that the package has already been installed. If that is the case, you still need to provide the command you *would* use to install the package above, and then proceed to the rest of this problem.\n"
   ]
  },
  {
   "cell_type": "markdown",
   "metadata": {
    "id": "NUzK-Xa-0Fid"
   },
   "source": [
    "### 3.2 Reading Package Documentation\n",
    "\n",
    "Now that you've installed Plotly, its time to explore the package! What can this package do? The best place to find this information is in the [documentation](https://plotly.com/). \n",
    "\n",
    "### 3.2.1 (10 points): \n",
    "\n",
    "Answer the following questions:\n",
    "1. What kind of package is Plotly? (e.g. Mathematical, Graphing, Statistical, etc.)?  \n",
    "2. How many different tabs exist in the Plotly Open Source Graphing Libraries?\n",
    "3. When would you use Plotly?\n",
    "4. Are there any packages you know that are similar to plotly?\n",
    "5. What are some different charts/plots you can create with Plotly?\n"
   ]
  },
  {
   "cell_type": "markdown",
   "metadata": {
    "id": "wr6SQ5kI_lrz"
   },
   "source": [
    "<font size=6 color=\"#009600\">&#9998;</font> *Put your answer here.*"
   ]
  },
  {
   "cell_type": "markdown",
   "metadata": {
    "id": "vPiM9hCV_lKw"
   },
   "source": [
    "### 3.3 Using The New Package\n",
    "Finally, it's time to use the newly installed package! Pick a dataset from the [data package](https://plotly.com/python-api-reference/generated/plotly.data.html) that is a part of Plotly. \n",
    "\n",
    "\n",
    "### 3.3.1 (10 points):\n",
    "\n",
    "Create a graph using one of these datasets. You can use the documentation for inspiration, but try to change the variables around so you get to really experience the package! Make sure to include titles and axis labels!\n",
    "\n"
   ]
  },
  {
   "cell_type": "markdown",
   "metadata": {
    "id": "ybbrqSTypszA"
   },
   "source": [
    "---\n",
    "\n",
    "# Part 4: Finishing (5 points)\n",
    "\n",
    "\n",
    "&#9989; Have you put **your name** and **GitHub username** at the top of your notebook?\n",
    "\n",
    "&#9989; Have you added the **TA** and **Instructor** to your GitHub repository?\n",
    "\n",
    "\n",
    "&#9989; Push your repository to GitHub.\n",
    "\n",
    "\n",
    "```bash\n",
    "\n",
    "# Put the command you used to push to GitHub here\n",
    "```\n",
    "\n",
    "\n",
    "**NOTE:** The grader is able to see your commit messages and whether you pushed the repo at this stage.\n"
   ]
  },
  {
   "cell_type": "markdown",
   "metadata": {
    "id": "P5sGvK7sqNoX"
   },
   "source": [
    "---\n",
    "## Assignment wrap-up"
   ]
  },
  {
   "cell_type": "markdown",
   "metadata": {
    "id": "fEw79O_XqO93"
   },
   "source": [
    "### Congratulations, you're done!\n",
    "\n",
    "Submit this assignment by uploading it to the course Desire2Learn web page.  Go to the **\"Homework Assignments\"** folder, find the dropbox link for Homework #1, and upload it there."
   ]
  },
  {
   "cell_type": "markdown",
   "metadata": {
    "id": "olTHsASyqTP6"
   },
   "source": [
    "&#169; Copyright 2023,  Department of Computational Mathematics, Science and Engineering at Michigan State University"
   ]
  }
 ],
 "metadata": {
  "colab": {
   "provenance": []
  },
  "kernelspec": {
   "display_name": "Python 3",
   "language": "python",
   "name": "python3"
  },
  "language_info": {
   "codemirror_mode": {
    "name": "ipython",
    "version": 3
   },
   "file_extension": ".py",
   "mimetype": "text/x-python",
   "name": "python",
   "nbconvert_exporter": "python",
   "pygments_lexer": "ipython3",
   "version": "3.8.8"
  },
  "vscode": {
   "interpreter": {
    "hash": "31f2aee4e71d21fbe5cf8b01ff0e069b9275f58929596ceb00d14d90e3e16cd6"
   }
  }
 },
 "nbformat": 4,
 "nbformat_minor": 4
}
